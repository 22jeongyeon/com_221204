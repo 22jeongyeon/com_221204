{
  "nbformat": 4,
  "nbformat_minor": 0,
  "metadata": {
    "colab": {
      "provenance": [],
      "authorship_tag": "ABX9TyM0Jm0cq6FRbZEWzdDQL851",
      "include_colab_link": true
    },
    "kernelspec": {
      "name": "python3",
      "display_name": "Python 3"
    },
    "language_info": {
      "name": "python"
    }
  },
  "cells": [
    {
      "cell_type": "markdown",
      "metadata": {
        "id": "view-in-github",
        "colab_type": "text"
      },
      "source": [
        "<a href=\"https://colab.research.google.com/github/22jeongyeon/com_221204/blob/main/com_22201_221204.ipynb\" target=\"_parent\"><img src=\"https://colab.research.google.com/assets/colab-badge.svg\" alt=\"Open In Colab\"/></a>"
      ]
    },
    {
      "cell_type": "code",
      "execution_count": null,
      "metadata": {
        "colab": {
          "base_uri": "https://localhost:8080/"
        },
        "id": "b4ARMvph0S_r",
        "outputId": "b371aa2a-81e6-4b58-c728-387153e0c698"
      },
      "outputs": [
        {
          "output_type": "stream",
          "name": "stdout",
          "text": [
            "가위, 바위, 보를 선택하세요..\n"
          ]
        }
      ],
      "source": [
        "import random\n",
        "ranNum = random.randint(1, 3)\n",
        "print('가위, 바위, 보를 선택하세요..')\n",
        "userNum = int(input('1.가위, 2.바위, 3.보 '))\n",
        "\n",
        "if (ranNum == 1 and userNum == 2) or (ranNum == 2 and userNum == 3) or (ranNum == 3 and userNum == 1):\n",
        "  print('컴퓨터: 패, 사용자: 승')\n",
        "elif (ranNum == 1 and userNum == 3) or (ranNum == 2 and userNum == 1) or (ranNum == 3 and userNum == 2):\n",
        "  print('컴퓨터: 승, 사용자: 패')\n",
        "elif ranNum == userNum:\n",
        "  print('무승부')\n",
        "\n",
        "print('사용자: ', userNum)\n",
        "print('컴퓨터: ', ranNum)"
      ]
    },
    {
      "cell_type": "code",
      "source": [
        "from mmap import MAP_SHARED\n",
        "userMessage= input('메시지를 입력하세요. ')\n",
        "MAP_SHARED\n",
        "  if MsgLen <= 50;\n",
        "  print('SMS 발송')\n",
        "else:\n",
        "  print('MMS 발송')\n",
        "print('메시지 길이 : ', MsgLen)"
      ],
      "metadata": {
        "id": "LaYtoWnn3tbB"
      },
      "execution_count": null,
      "outputs": []
    },
    {
      "cell_type": "code",
      "source": [
        "from IPython.core.prefilter import MacroChecker\n",
        "importrandonNum = random.randrange(1, 101)\n",
        "userNum = int(input('1부터 100사이의 난수를 맞추세요. '))\n",
        "MacroCheckercount = 0\n",
        "\n",
        "while userNum != randonNum:\n",
        "  print('틀렸습니다. 다시 입력하세요.')\n",
        "\n",
        "  if userNum > randonNum:\n",
        "    print('난수가 입력한 숫자보다 작습니다.')\n",
        "  else:\n",
        "    print('난수가 입력한 숫자보다 큽니다.')\n",
        "\n",
        "  count += 1\n",
        "  if count >= 10:\n",
        "    print('게임에 졌습니다.')\n",
        "    break\n",
        "  userNum = int(input('1부터 100사이의 난수를 맞추세요. '))\n",
        "else:\n",
        "  print('정답입니다.')\n",
        "print('난수 : ', randonNum)"
      ],
      "metadata": {
        "id": "vQrn2HMx4T4c"
      },
      "execution_count": null,
      "outputs": []
    }
  ]
}